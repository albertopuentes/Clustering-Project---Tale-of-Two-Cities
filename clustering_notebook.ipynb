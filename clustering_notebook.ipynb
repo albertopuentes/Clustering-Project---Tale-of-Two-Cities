{
 "cells": [
  {
   "cell_type": "code",
   "execution_count": 1,
   "metadata": {},
   "outputs": [],
   "source": [
    "import pandas as pd\n",
    "import numpy as np\n",
    "import os\n",
    "import warnings\n",
    "warnings.filterwarnings(\"ignore\")\n",
    "import matplotlib.pyplot as plt\n",
    "import seaborn as sns\n",
    "from sklearn.model_selection import train_test_split\n",
    "\n",
    "#acquire\n",
    "import acquire\n",
    "from env import host, username, password\n",
    "from pydataset import data\n",
    "from sklearn.impute import SimpleImputer"
   ]
  },
  {
   "cell_type": "markdown",
   "metadata": {},
   "source": [
    "# Acquire & Prep Data"
   ]
  },
  {
   "cell_type": "markdown",
   "metadata": {},
   "source": [
    "## Acquire data - zillow_data()"
   ]
  },
  {
   "cell_type": "code",
   "execution_count": 2,
   "metadata": {},
   "outputs": [],
   "source": [
    "df = acquire.zillow_data()"
   ]
  },
  {
   "cell_type": "code",
   "execution_count": 3,
   "metadata": {},
   "outputs": [
    {
     "name": "stdout",
     "output_type": "stream",
     "text": [
      "<class 'pandas.core.frame.DataFrame'>\n",
      "RangeIndex: 77580 entries, 0 to 77579\n",
      "Data columns (total 69 columns):\n",
      " #   Column                        Non-Null Count  Dtype  \n",
      "---  ------                        --------------  -----  \n",
      " 0   typeconstructiontypeid        223 non-null    float64\n",
      " 1   storytypeid                   50 non-null     float64\n",
      " 2   propertylandusetypeid         77580 non-null  float64\n",
      " 3   heatingorsystemtypeid         49572 non-null  float64\n",
      " 4   buildingclasstypeid           15 non-null     float64\n",
      " 5   architecturalstyletypeid      207 non-null    float64\n",
      " 6   airconditioningtypeid         25007 non-null  float64\n",
      " 7   parcelid                      77580 non-null  int64  \n",
      " 8   id                            77580 non-null  int64  \n",
      " 9   logerror                      77580 non-null  float64\n",
      " 10  transactiondate               77580 non-null  object \n",
      " 11  id                            77580 non-null  int64  \n",
      " 12  basementsqft                  50 non-null     float64\n",
      " 13  bathroomcnt                   77580 non-null  float64\n",
      " 14  bedroomcnt                    77580 non-null  float64\n",
      " 15  buildingqualitytypeid         49810 non-null  float64\n",
      " 16  calculatedbathnbr             76964 non-null  float64\n",
      " 17  decktypeid                    614 non-null    float64\n",
      " 18  finishedfloor1squarefeet      6037 non-null   float64\n",
      " 19  calculatedfinishedsquarefeet  77379 non-null  float64\n",
      " 20  finishedsquarefeet12          73924 non-null  float64\n",
      " 21  finishedsquarefeet13          42 non-null     float64\n",
      " 22  finishedsquarefeet15          3027 non-null   float64\n",
      " 23  finishedsquarefeet50          6037 non-null   float64\n",
      " 24  finishedsquarefeet6           386 non-null    float64\n",
      " 25  fips                          77580 non-null  float64\n",
      " 26  fireplacecnt                  8289 non-null   float64\n",
      " 27  fullbathcnt                   76964 non-null  float64\n",
      " 28  garagecarcnt                  25520 non-null  float64\n",
      " 29  garagetotalsqft               25520 non-null  float64\n",
      " 30  hashottuborspa                1539 non-null   float64\n",
      " 31  latitude                      77580 non-null  float64\n",
      " 32  longitude                     77580 non-null  float64\n",
      " 33  lotsizesquarefeet             69322 non-null  float64\n",
      " 34  poolcnt                       16174 non-null  float64\n",
      " 35  poolsizesum                   869 non-null    float64\n",
      " 36  pooltypeid10                  465 non-null    float64\n",
      " 37  pooltypeid2                   1074 non-null   float64\n",
      " 38  pooltypeid7                   15079 non-null  float64\n",
      " 39  propertycountylandusecode     77580 non-null  object \n",
      " 40  propertyzoningdesc            50477 non-null  object \n",
      " 41  rawcensustractandblock        77580 non-null  float64\n",
      " 42  regionidcity                  76108 non-null  float64\n",
      " 43  regionidcounty                77580 non-null  float64\n",
      " 44  regionidneighborhood          30974 non-null  float64\n",
      " 45  regionidzip                   77530 non-null  float64\n",
      " 46  roomcnt                       77580 non-null  float64\n",
      " 47  threequarterbathnbr           10106 non-null  float64\n",
      " 48  unitcnt                       50704 non-null  float64\n",
      " 49  yardbuildingsqft17            2393 non-null   float64\n",
      " 50  yardbuildingsqft26            70 non-null     float64\n",
      " 51  yearbuilt                     77310 non-null  float64\n",
      " 52  numberofstories               17599 non-null  float64\n",
      " 53  fireplaceflag                 172 non-null    float64\n",
      " 54  structuretaxvaluedollarcnt    77465 non-null  float64\n",
      " 55  taxvaluedollarcnt             77579 non-null  float64\n",
      " 56  assessmentyear                77580 non-null  float64\n",
      " 57  landtaxvaluedollarcnt         77578 non-null  float64\n",
      " 58  taxamount                     77575 non-null  float64\n",
      " 59  taxdelinquencyflag            2900 non-null   object \n",
      " 60  taxdelinquencyyear            2900 non-null   float64\n",
      " 61  censustractandblock           77333 non-null  float64\n",
      " 62  airconditioningdesc           25007 non-null  object \n",
      " 63  architecturalstyledesc        207 non-null    object \n",
      " 64  buildingclassdesc             15 non-null     object \n",
      " 65  heatingorsystemdesc           49572 non-null  object \n",
      " 66  propertylandusedesc           77580 non-null  object \n",
      " 67  storydesc                     50 non-null     object \n",
      " 68  typeconstructiondesc          223 non-null    object \n",
      "dtypes: float64(55), int64(3), object(11)\n",
      "memory usage: 40.8+ MB\n"
     ]
    }
   ],
   "source": [
    "df.info()"
   ]
  },
  {
   "cell_type": "markdown",
   "metadata": {},
   "source": [
    "## Prep Zillow Data - prepare_zillow()"
   ]
  },
  {
   "cell_type": "code",
   "execution_count": 4,
   "metadata": {},
   "outputs": [
    {
     "data": {
      "text/plain": [
       "Single Family Residential                     52442\n",
       "Condominium                                   19342\n",
       "Duplex (2 Units, Any Combination)              2021\n",
       "Planned Unit Development                       1947\n",
       "Quadruplex (4 Units, Any Combination)           729\n",
       "Triplex (3 Units, Any Combination)              539\n",
       "Cluster Home                                    335\n",
       "Mobile Home                                      74\n",
       "Manufactured, Modular, Prefabricated Homes       59\n",
       "Residential General                              42\n",
       "Cooperative                                      29\n",
       "Commercial/Office/Residential Mixed Used         15\n",
       "Townhouse                                         6\n",
       "Name: propertylandusedesc, dtype: int64"
      ]
     },
     "execution_count": 4,
     "metadata": {},
     "output_type": "execute_result"
    }
   ],
   "source": [
    "df.propertylandusedesc.value_counts()"
   ]
  },
  {
   "cell_type": "markdown",
   "metadata": {},
   "source": [
    "***\n",
    "Single unit properties - Single Family Residential, Mobile Home, Manufactured, Modular, Prefabricated Homes, Townhouse\n",
    "* Townhouse only has 6 so drop\n",
    "***"
   ]
  },
  {
   "cell_type": "code",
   "execution_count": 5,
   "metadata": {},
   "outputs": [],
   "source": [
    "# Restrict propertylandusedesc to those of single unit\n",
    "df = df[(df.propertylandusedesc == 'Single Family Residential') | \n",
    "        (df.propertylandusedesc == 'Mobile Home') |\n",
    "        (df.propertylandusedesc == 'Manufactured, Modular, Prefabricated Homes')]"
   ]
  },
  {
   "cell_type": "code",
   "execution_count": 6,
   "metadata": {},
   "outputs": [
    {
     "data": {
      "text/plain": [
       "typeconstructiontypeid          52499\n",
       "storytypeid                     52528\n",
       "propertylandusetypeid               0\n",
       "heatingorsystemtypeid           18639\n",
       "buildingclasstypeid             52575\n",
       "architecturalstyletypeid        52505\n",
       "airconditioningtypeid           38935\n",
       "parcelid                            0\n",
       "id                                  0\n",
       "logerror                            0\n",
       "transactiondate                     0\n",
       "id                                  0\n",
       "basementsqft                    52528\n",
       "bathroomcnt                         0\n",
       "bedroomcnt                          0\n",
       "buildingqualitytypeid           18783\n",
       "calculatedbathnbr                 175\n",
       "decktypeid                      52183\n",
       "finishedfloor1squarefeet        48184\n",
       "calculatedfinishedsquarefeet      102\n",
       "finishedsquarefeet12              309\n",
       "finishedsquarefeet13            52533\n",
       "finishedsquarefeet15            52575\n",
       "finishedsquarefeet50            48184\n",
       "finishedsquarefeet6             52410\n",
       "fips                                0\n",
       "fireplacecnt                    45331\n",
       "fullbathcnt                       175\n",
       "garagecarcnt                    34517\n",
       "garagetotalsqft                 34517\n",
       "hashottuborspa                  51060\n",
       "latitude                            0\n",
       "longitude                           0\n",
       "lotsizesquarefeet                 375\n",
       "poolcnt                         41478\n",
       "poolsizesum                     51708\n",
       "pooltypeid10                    52131\n",
       "pooltypeid2                     51504\n",
       "pooltypeid7                     42565\n",
       "propertycountylandusecode           0\n",
       "propertyzoningdesc              18672\n",
       "rawcensustractandblock              0\n",
       "regionidcity                     1037\n",
       "regionidcounty                      0\n",
       "regionidneighborhood            33536\n",
       "regionidzip                        27\n",
       "roomcnt                             0\n",
       "threequarterbathnbr             45851\n",
       "unitcnt                         18674\n",
       "yardbuildingsqft17              50621\n",
       "yardbuildingsqft26              52510\n",
       "yearbuilt                         135\n",
       "numberofstories                 38004\n",
       "fireplaceflag                   52494\n",
       "structuretaxvaluedollarcnt         96\n",
       "taxvaluedollarcnt                   1\n",
       "assessmentyear                      0\n",
       "landtaxvaluedollarcnt               2\n",
       "taxamount                           4\n",
       "taxdelinquencyflag              50494\n",
       "taxdelinquencyyear              50494\n",
       "censustractandblock               123\n",
       "airconditioningdesc             38935\n",
       "architecturalstyledesc          52505\n",
       "buildingclassdesc               52575\n",
       "heatingorsystemdesc             18639\n",
       "propertylandusedesc                 0\n",
       "storydesc                       52528\n",
       "typeconstructiondesc            52499\n",
       "dtype: int64"
      ]
     },
     "execution_count": 6,
     "metadata": {},
     "output_type": "execute_result"
    }
   ],
   "source": [
    "# null values\n",
    "df.isnull().sum()"
   ]
  },
  {
   "cell_type": "code",
   "execution_count": 7,
   "metadata": {},
   "outputs": [],
   "source": [
    "# dropping cols/rows where more than half of the values are null\n",
    "df = acquire.handle_missing_values(df, col_perc = .5, row_perc = .5)"
   ]
  },
  {
   "cell_type": "code",
   "execution_count": 8,
   "metadata": {},
   "outputs": [],
   "source": [
    "# dropping the columns with 17K missing values too much to fill/impute/drop rows\n",
    "df = df.drop(columns=['heatingorsystemtypeid', 'buildingqualitytypeid', 'propertyzoningdesc', 'unitcnt', 'heatingorsystemdesc'])"
   ]
  },
  {
   "cell_type": "code",
   "execution_count": 9,
   "metadata": {},
   "outputs": [],
   "source": [
    "# organize features with missing data by discrete & continuous in order to impute missing data\n",
    "discrete_col = ['calculatedbathnbr', 'fullbathcnt', 'regionidcity', 'regionidzip', 'yearbuilt', 'censustractandblock']\n",
    "cont_col = ['calculatedfinishedsquarefeet', 'finishedsquarefeet12', 'lotsizesquarefeet', 'structuretaxvaluedollarcnt', 'taxvaluedollarcnt', 'landtaxvaluedollarcnt', 'taxamount']"
   ]
  },
  {
   "cell_type": "code",
   "execution_count": 10,
   "metadata": {},
   "outputs": [
    {
     "data": {
      "text/plain": [
       "77579    2018-05-25\n",
       "77578    2017-09-25\n",
       "77577    2017-09-21\n",
       "77576    2017-09-21\n",
       "77575    2017-09-20\n",
       "            ...    \n",
       "7        2017-01-01\n",
       "6        2017-01-01\n",
       "3        2017-01-01\n",
       "2        2017-01-01\n",
       "0        2017-01-01\n",
       "Name: transactiondate, Length: 52575, dtype: object"
      ]
     },
     "execution_count": 10,
     "metadata": {},
     "output_type": "execute_result"
    }
   ],
   "source": [
    "# single outlier in transactiondate\n",
    "df.transactiondate.sort_values(ascending=False)"
   ]
  },
  {
   "cell_type": "code",
   "execution_count": 11,
   "metadata": {},
   "outputs": [
    {
     "data": {
      "text/plain": [
       "count          52575\n",
       "unique           258\n",
       "top       2017-06-30\n",
       "freq             814\n",
       "Name: transactiondate, dtype: object"
      ]
     },
     "execution_count": 11,
     "metadata": {},
     "output_type": "execute_result"
    }
   ],
   "source": [
    "df.transactiondate.describe()"
   ]
  },
  {
   "cell_type": "code",
   "execution_count": 12,
   "metadata": {},
   "outputs": [],
   "source": [
    "# address date outlier by replacing with mode\n",
    "df['transactiondate'] = df.transactiondate.replace('2018-05-25', '2017-06-30')"
   ]
  },
  {
   "cell_type": "code",
   "execution_count": 13,
   "metadata": {},
   "outputs": [
    {
     "name": "stdout",
     "output_type": "stream",
     "text": [
      "<class 'pandas.core.frame.DataFrame'>\n",
      "Int64Index: 52575 entries, 0 to 77579\n",
      "Data columns (total 30 columns):\n",
      " #   Column                        Non-Null Count  Dtype         \n",
      "---  ------                        --------------  -----         \n",
      " 0   propertylandusetypeid         52575 non-null  float64       \n",
      " 1   parcelid                      52575 non-null  int64         \n",
      " 2   id                            52575 non-null  int64         \n",
      " 3   logerror                      52575 non-null  float64       \n",
      " 4   transactiondate               52575 non-null  datetime64[ns]\n",
      " 5   id                            52575 non-null  int64         \n",
      " 6   bathroomcnt                   52575 non-null  float64       \n",
      " 7   bedroomcnt                    52575 non-null  float64       \n",
      " 8   calculatedbathnbr             52400 non-null  float64       \n",
      " 9   calculatedfinishedsquarefeet  52473 non-null  float64       \n",
      " 10  finishedsquarefeet12          52266 non-null  float64       \n",
      " 11  fips                          52575 non-null  float64       \n",
      " 12  fullbathcnt                   52400 non-null  float64       \n",
      " 13  latitude                      52575 non-null  float64       \n",
      " 14  longitude                     52575 non-null  float64       \n",
      " 15  lotsizesquarefeet             52200 non-null  float64       \n",
      " 16  propertycountylandusecode     52575 non-null  object        \n",
      " 17  rawcensustractandblock        52575 non-null  float64       \n",
      " 18  regionidcity                  51538 non-null  float64       \n",
      " 19  regionidcounty                52575 non-null  float64       \n",
      " 20  regionidzip                   52548 non-null  float64       \n",
      " 21  roomcnt                       52575 non-null  float64       \n",
      " 22  yearbuilt                     52440 non-null  float64       \n",
      " 23  structuretaxvaluedollarcnt    52479 non-null  float64       \n",
      " 24  taxvaluedollarcnt             52574 non-null  float64       \n",
      " 25  assessmentyear                52575 non-null  float64       \n",
      " 26  landtaxvaluedollarcnt         52573 non-null  float64       \n",
      " 27  taxamount                     52571 non-null  float64       \n",
      " 28  censustractandblock           52452 non-null  float64       \n",
      " 29  propertylandusedesc           52575 non-null  object        \n",
      "dtypes: datetime64[ns](1), float64(24), int64(3), object(2)\n",
      "memory usage: 12.4+ MB\n"
     ]
    }
   ],
   "source": [
    "# Convert transactiondate to datetime\n",
    "df['transactiondate'] = pd.to_datetime(df.transactiondate)\n",
    "df.info()"
   ]
  },
  {
   "cell_type": "code",
   "execution_count": 14,
   "metadata": {},
   "outputs": [],
   "source": [
    "# drop assessment year as it is one single year\n",
    "df = df.drop(columns=(['assessmentyear']))"
   ]
  },
  {
   "cell_type": "code",
   "execution_count": 15,
   "metadata": {},
   "outputs": [],
   "source": [
    "#dropping the id columns, as parcelid is a unique identifier\n",
    "df= df.drop(columns=('id'))"
   ]
  },
  {
   "cell_type": "code",
   "execution_count": 16,
   "metadata": {},
   "outputs": [
    {
     "data": {
      "text/plain": [
       "propertylandusetypeid              0\n",
       "parcelid                           0\n",
       "logerror                           0\n",
       "transactiondate                    0\n",
       "bathroomcnt                        0\n",
       "bedroomcnt                         0\n",
       "calculatedbathnbr                175\n",
       "calculatedfinishedsquarefeet     102\n",
       "finishedsquarefeet12             309\n",
       "fips                               0\n",
       "fullbathcnt                      175\n",
       "latitude                           0\n",
       "longitude                          0\n",
       "lotsizesquarefeet                375\n",
       "propertycountylandusecode          0\n",
       "rawcensustractandblock             0\n",
       "regionidcity                    1037\n",
       "regionidcounty                     0\n",
       "regionidzip                       27\n",
       "roomcnt                            0\n",
       "yearbuilt                        135\n",
       "structuretaxvaluedollarcnt        96\n",
       "taxvaluedollarcnt                  1\n",
       "landtaxvaluedollarcnt              2\n",
       "taxamount                          4\n",
       "censustractandblock              123\n",
       "propertylandusedesc                0\n",
       "dtype: int64"
      ]
     },
     "execution_count": 16,
     "metadata": {},
     "output_type": "execute_result"
    }
   ],
   "source": [
    "df.isnull().sum()"
   ]
  },
  {
   "cell_type": "code",
   "execution_count": 17,
   "metadata": {},
   "outputs": [],
   "source": [
    "# organize features with missing data by discrete & continuous in order to impute missing data\n",
    "discrete_col = ['calculatedbathnbr', 'fullbathcnt', 'regionidcity', 'regionidzip', 'yearbuilt', 'censustractandblock']\n",
    "cont_col = ['calculatedfinishedsquarefeet', 'finishedsquarefeet12', 'lotsizesquarefeet', 'structuretaxvaluedollarcnt', 'taxvaluedollarcnt', 'landtaxvaluedollarcnt', 'taxamount']"
   ]
  },
  {
   "cell_type": "code",
   "execution_count": 18,
   "metadata": {},
   "outputs": [
    {
     "name": "stdout",
     "output_type": "stream",
     "text": [
      "train -> (29442, 27)\n",
      "validate -> (12618, 27)\n",
      "test -> (10515, 27)\n"
     ]
    }
   ],
   "source": [
    "# Split data\n",
    "train, validate, test = acquire.split_continuous(df)"
   ]
  },
  {
   "cell_type": "code",
   "execution_count": 19,
   "metadata": {},
   "outputs": [],
   "source": [
    "# impute mode on discrete columns in split data\n",
    "imputer = SimpleImputer(strategy='most_frequent')\n",
    "train[discrete_col] = imputer.fit_transform(train[discrete_col])\n",
    "validate[discrete_col] = imputer.transform(validate[discrete_col])\n",
    "test[discrete_col] = imputer.transform(test[discrete_col])"
   ]
  },
  {
   "cell_type": "code",
   "execution_count": 20,
   "metadata": {},
   "outputs": [],
   "source": [
    "# impute mean on continuous columns in split data\n",
    "imputer = SimpleImputer(strategy='mean')\n",
    "train[cont_col] = imputer.fit_transform(train[cont_col])\n",
    "validate[cont_col] = imputer.transform(validate[cont_col])\n",
    "test[cont_col] = imputer.transform(test[cont_col])"
   ]
  },
  {
   "cell_type": "code",
   "execution_count": 21,
   "metadata": {},
   "outputs": [
    {
     "data": {
      "text/plain": [
       "propertylandusetypeid           0\n",
       "parcelid                        0\n",
       "logerror                        0\n",
       "transactiondate                 0\n",
       "bathroomcnt                     0\n",
       "bedroomcnt                      0\n",
       "calculatedbathnbr               0\n",
       "calculatedfinishedsquarefeet    0\n",
       "finishedsquarefeet12            0\n",
       "fips                            0\n",
       "fullbathcnt                     0\n",
       "latitude                        0\n",
       "longitude                       0\n",
       "lotsizesquarefeet               0\n",
       "propertycountylandusecode       0\n",
       "rawcensustractandblock          0\n",
       "regionidcity                    0\n",
       "regionidcounty                  0\n",
       "regionidzip                     0\n",
       "roomcnt                         0\n",
       "yearbuilt                       0\n",
       "structuretaxvaluedollarcnt      0\n",
       "taxvaluedollarcnt               0\n",
       "landtaxvaluedollarcnt           0\n",
       "taxamount                       0\n",
       "censustractandblock             0\n",
       "propertylandusedesc             0\n",
       "dtype: int64"
      ]
     },
     "execution_count": 21,
     "metadata": {},
     "output_type": "execute_result"
    }
   ],
   "source": [
    "#control test\n",
    "test.isnull().sum()"
   ]
  },
  {
   "cell_type": "markdown",
   "metadata": {},
   "source": [
    "### Control check to make sure we've addressed nulls"
   ]
  },
  {
   "cell_type": "code",
   "execution_count": 22,
   "metadata": {},
   "outputs": [
    {
     "data": {
      "text/plain": [
       "((29442, 27), (12618, 27), (10515, 27))"
      ]
     },
     "execution_count": 22,
     "metadata": {},
     "output_type": "execute_result"
    }
   ],
   "source": [
    "train.shape, validate.shape, test.shape"
   ]
  },
  {
   "cell_type": "markdown",
   "metadata": {},
   "source": [
    "***\n",
    "Note: I acquired and prepped the data above but after reviewing my data and trying to game plan, I decide to pare down collinearity by eliminating redundant information\n",
    "***"
   ]
  },
  {
   "cell_type": "markdown",
   "metadata": {},
   "source": [
    "### FIPS data manipulation"
   ]
  },
  {
   "cell_type": "code",
   "execution_count": 46,
   "metadata": {},
   "outputs": [],
   "source": [
    "# convert fips to integer to drop decimals before converting to string\n",
    "df['fips'] = df['fips'].astype(int)"
   ]
  },
  {
   "cell_type": "code",
   "execution_count": 47,
   "metadata": {},
   "outputs": [],
   "source": [
    "# convert fips data to string so that we can split\n",
    "df['fips'] = df['fips'].astype('str')"
   ]
  },
  {
   "cell_type": "code",
   "execution_count": 52,
   "metadata": {},
   "outputs": [
    {
     "data": {
      "text/plain": [
       "dtype('O')"
      ]
     },
     "execution_count": 52,
     "metadata": {},
     "output_type": "execute_result"
    }
   ],
   "source": [
    "# confirm\n",
    "df.fips.dtype"
   ]
  },
  {
   "cell_type": "code",
   "execution_count": 53,
   "metadata": {},
   "outputs": [],
   "source": [
    "# Create County column by stripping state reference location(last three digits)\n",
    "df['county'] = df['fips'].str[1:]"
   ]
  },
  {
   "cell_type": "code",
   "execution_count": 54,
   "metadata": {},
   "outputs": [
    {
     "data": {
      "text/plain": [
       "037    33966\n",
       "059    14145\n",
       "111     4464\n",
       "Name: county, dtype: int64"
      ]
     },
     "execution_count": 54,
     "metadata": {},
     "output_type": "execute_result"
    }
   ],
   "source": [
    "# check to see how many different counties\n",
    "df.county.value_counts()"
   ]
  },
  {
   "cell_type": "code",
   "execution_count": 55,
   "metadata": {},
   "outputs": [],
   "source": [
    "# Replace numerics with labels\n",
    "df['county'] = df['county'].replace({'037':'Los Angeles', '059':'Orange', '111':'Ventura'})"
   ]
  },
  {
   "cell_type": "code",
   "execution_count": 56,
   "metadata": {},
   "outputs": [
    {
     "data": {
      "text/plain": [
       "Los Angeles    33966\n",
       "Orange         14145\n",
       "Ventura         4464\n",
       "Name: county, dtype: int64"
      ]
     },
     "execution_count": 56,
     "metadata": {},
     "output_type": "execute_result"
    }
   ],
   "source": [
    "# control check on manipulation\n",
    "df.county.value_counts()"
   ]
  },
  {
   "cell_type": "markdown",
   "metadata": {},
   "source": [
    "***\n",
    "#### Notes on fips:\n",
    "* fips codes in zillow data missing the leading zero for the state code first two digit assignment.  Only reason discovered this was by looking up standard fips codes are 5 digit...data only pro#### Calculate Tax Ratevides \n",
    "* first 2 numerics = state, last 3 numerics = county\n",
    "* only 1 state code and 3 county codes in zillow dataframe\n",
    "\n",
    "look up code references and construct new columns identifying state and counties (source: https://transition.fcc.gov/oet/info/maps/census/fips/fips.txt)\n",
    "* State codes: 01 = CA\n",
    "* County codes: 037=Los Angeles County, 059=Orange County & 111=Ventura County \n",
    "***"
   ]
  },
  {
   "cell_type": "markdown",
   "metadata": {},
   "source": [
    "### Calculate Tax Rate"
   ]
  },
  {
   "cell_type": "code",
   "execution_count": 62,
   "metadata": {},
   "outputs": [],
   "source": [
    "df['tax_rate'] = round((df.taxamount / df.taxvaluedollarcnt), 3)"
   ]
  },
  {
   "cell_type": "code",
   "execution_count": 63,
   "metadata": {},
   "outputs": [
    {
     "data": {
      "text/plain": [
       "count    52570.000000\n",
       "mean         0.013352\n",
       "std          0.006677\n",
       "min          0.000000\n",
       "25%          0.012000\n",
       "50%          0.012000\n",
       "75%          0.014000\n",
       "max          0.816000\n",
       "Name: tax_rate, dtype: float64"
      ]
     },
     "execution_count": 63,
     "metadata": {},
     "output_type": "execute_result"
    }
   ],
   "source": [
    "df.tax_rate.describe()"
   ]
  },
  {
   "cell_type": "code",
   "execution_count": 64,
   "metadata": {},
   "outputs": [
    {
     "data": {
      "text/plain": [
       "62060    0.816\n",
       "73329    0.494\n",
       "45856    0.453\n",
       "8711     0.346\n",
       "33148    0.295\n",
       "36626    0.278\n",
       "43099    0.204\n",
       "39641    0.183\n",
       "77506    0.179\n",
       "43970    0.148\n",
       "Name: tax_rate, dtype: float64"
      ]
     },
     "execution_count": 64,
     "metadata": {},
     "output_type": "execute_result"
    }
   ],
   "source": [
    "df.tax_rate.sort_values(ascending=False).head(10)"
   ]
  },
  {
   "cell_type": "code",
   "execution_count": 66,
   "metadata": {},
   "outputs": [],
   "source": [
    "# drop the rows with tax rates in excess of 0.4\n",
    "df = df.drop(df[df['tax_rate']>0.4].index)"
   ]
  },
  {
   "cell_type": "code",
   "execution_count": 67,
   "metadata": {},
   "outputs": [
    {
     "data": {
      "text/plain": [
       "count    52567.000000\n",
       "mean         0.013319\n",
       "std          0.004925\n",
       "min          0.000000\n",
       "25%          0.012000\n",
       "50%          0.012000\n",
       "75%          0.014000\n",
       "max          0.346000\n",
       "Name: tax_rate, dtype: float64"
      ]
     },
     "execution_count": 67,
     "metadata": {},
     "output_type": "execute_result"
    }
   ],
   "source": [
    "df.tax_rate.describe()"
   ]
  },
  {
   "cell_type": "markdown",
   "metadata": {},
   "source": [
    "***\n",
    "#### Notes on Tax Rate: Now that we have a calculated tax_rate should be easier to detect outliers\n",
    "* no negative values \n",
    "* max didn't pass the smell test.  While some of the calculated tax rates seemed high, there were 3 in particular that stuck out at 45%, 49% & 81%. While other values did appear off, I decided to only cut these two as they were completely in a dimension of their own.\n",
    "***"
   ]
  },
  {
   "cell_type": "markdown",
   "metadata": {},
   "source": [
    "### Review collinearity amongst independent variables"
   ]
  },
  {
   "cell_type": "code",
   "execution_count": 23,
   "metadata": {},
   "outputs": [],
   "source": [
    "# Separate variables by associations, adding in target\n",
    "sqft = ['calculatedfinishedsquarefeet', 'finishedsquarefeet12']\n",
    "bath = ['bathroomcnt', 'fullbathcnt', 'bedroomcnt', 'calculatedbathnbr']\n",
    "value = ['structuretaxvaluedollarcnt', 'taxvaluedollarcnt', 'landtaxvaluedollarcnt', 'taxamount']\n",
    "loc = ['latitude', 'longitude', 'rawcensustractandblock', 'regionidcity', 'regionidcounty', 'regionidzip', 'censustractandblock']"
   ]
  },
  {
   "cell_type": "code",
   "execution_count": 24,
   "metadata": {},
   "outputs": [
    {
     "data": {
      "text/plain": [
       "<seaborn.axisgrid.PairGrid at 0x7fdf99314f40>"
      ]
     },
     "execution_count": 24,
     "metadata": {},
     "output_type": "execute_result"
    },
    {
     "data": {
      "image/png": "[encoded data removed]",
      "text/plain": [
       "<Figure size 360x360 with 6 Axes>"
      ]
     },
     "metadata": {
      "needs_background": "light"
     },
     "output_type": "display_data"
    }
   ],
   "source": [
    "sns.pairplot(data = train[sqft])"
   ]
  },
  {
   "cell_type": "code",
   "execution_count": 25,
   "metadata": {},
   "outputs": [
    {
     "data": {
      "text/plain": [
       "<seaborn.axisgrid.PairGrid at 0x7fdf7b9c2fd0>"
      ]
     },
     "execution_count": 25,
     "metadata": {},
     "output_type": "execute_result"
    },
    {
     "data": {
      "image/png": "[encoded data removed]",
      "text/plain": [
       "<Figure size 720x720 with 20 Axes>"
      ]
     },
     "metadata": {
      "needs_background": "light"
     },
     "output_type": "display_data"
    }
   ],
   "source": [
    "sns.pairplot(data = train[bath])"
   ]
  },
  {
   "cell_type": "code",
   "execution_count": 26,
   "metadata": {},
   "outputs": [
    {
     "data": {
      "text/plain": [
       "<seaborn.axisgrid.PairGrid at 0x7fdf99933730>"
      ]
     },
     "execution_count": 26,
     "metadata": {},
     "output_type": "execute_result"
    },
    {
     "data": {
      "image/png": "[encoded data removed]",
      "text/plain": [
       "<Figure size 720x720 with 20 Axes>"
      ]
     },
     "metadata": {
      "needs_background": "light"
     },
     "output_type": "display_data"
    }
   ],
   "source": [
    "sns.pairplot(data = train[value])"
   ]
  },
  {
   "cell_type": "code",
   "execution_count": 27,
   "metadata": {},
   "outputs": [
    {
     "data": {
      "text/html": [
       "<div>\n",
       "<style scoped>\n",
       "    .dataframe tbody tr th:only-of-type {\n",
       "        vertical-align: middle;\n",
       "    }\n",
       "\n",
       "    .dataframe tbody tr th {\n",
       "        vertical-align: top;\n",
       "    }\n",
       "\n",
       "    .dataframe thead th {\n",
       "        text-align: right;\n",
       "    }\n",
       "</style>\n",
       "<table border=\"1\" class=\"dataframe\">\n",
       "  <thead>\n",
       "    <tr style=\"text-align: right;\">\n",
       "      <th></th>\n",
       "      <th>calculatedfinishedsquarefeet</th>\n",
       "      <th>finishedsquarefeet12</th>\n",
       "    </tr>\n",
       "  </thead>\n",
       "  <tbody>\n",
       "    <tr>\n",
       "      <th>calculatedfinishedsquarefeet</th>\n",
       "      <td>1.000000</td>\n",
       "      <td>0.998154</td>\n",
       "    </tr>\n",
       "    <tr>\n",
       "      <th>finishedsquarefeet12</th>\n",
       "      <td>0.998154</td>\n",
       "      <td>1.000000</td>\n",
       "    </tr>\n",
       "  </tbody>\n",
       "</table>\n",
       "</div>"
      ],
      "text/plain": [
       "                              calculatedfinishedsquarefeet  \\\n",
       "calculatedfinishedsquarefeet                      1.000000   \n",
       "finishedsquarefeet12                              0.998154   \n",
       "\n",
       "                              finishedsquarefeet12  \n",
       "calculatedfinishedsquarefeet              0.998154  \n",
       "finishedsquarefeet12                      1.000000  "
      ]
     },
     "execution_count": 27,
     "metadata": {},
     "output_type": "execute_result"
    }
   ],
   "source": [
    "train[sqft].corr()"
   ]
  },
  {
   "cell_type": "code",
   "execution_count": 28,
   "metadata": {},
   "outputs": [
    {
     "data": {
      "text/html": [
       "<div>\n",
       "<style scoped>\n",
       "    .dataframe tbody tr th:only-of-type {\n",
       "        vertical-align: middle;\n",
       "    }\n",
       "\n",
       "    .dataframe tbody tr th {\n",
       "        vertical-align: top;\n",
       "    }\n",
       "\n",
       "    .dataframe thead th {\n",
       "        text-align: right;\n",
       "    }\n",
       "</style>\n",
       "<table border=\"1\" class=\"dataframe\">\n",
       "  <thead>\n",
       "    <tr style=\"text-align: right;\">\n",
       "      <th></th>\n",
       "      <th>bathroomcnt</th>\n",
       "      <th>fullbathcnt</th>\n",
       "      <th>bedroomcnt</th>\n",
       "      <th>calculatedbathnbr</th>\n",
       "    </tr>\n",
       "  </thead>\n",
       "  <tbody>\n",
       "    <tr>\n",
       "      <th>bathroomcnt</th>\n",
       "      <td>1.000000</td>\n",
       "      <td>0.979873</td>\n",
       "      <td>0.655838</td>\n",
       "      <td>0.994196</td>\n",
       "    </tr>\n",
       "    <tr>\n",
       "      <th>fullbathcnt</th>\n",
       "      <td>0.979873</td>\n",
       "      <td>1.000000</td>\n",
       "      <td>0.632890</td>\n",
       "      <td>0.985893</td>\n",
       "    </tr>\n",
       "    <tr>\n",
       "      <th>bedroomcnt</th>\n",
       "      <td>0.655838</td>\n",
       "      <td>0.632890</td>\n",
       "      <td>1.000000</td>\n",
       "      <td>0.641502</td>\n",
       "    </tr>\n",
       "    <tr>\n",
       "      <th>calculatedbathnbr</th>\n",
       "      <td>0.994196</td>\n",
       "      <td>0.985893</td>\n",
       "      <td>0.641502</td>\n",
       "      <td>1.000000</td>\n",
       "    </tr>\n",
       "  </tbody>\n",
       "</table>\n",
       "</div>"
      ],
      "text/plain": [
       "                   bathroomcnt  fullbathcnt  bedroomcnt  calculatedbathnbr\n",
       "bathroomcnt           1.000000     0.979873    0.655838           0.994196\n",
       "fullbathcnt           0.979873     1.000000    0.632890           0.985893\n",
       "bedroomcnt            0.655838     0.632890    1.000000           0.641502\n",
       "calculatedbathnbr     0.994196     0.985893    0.641502           1.000000"
      ]
     },
     "execution_count": 28,
     "metadata": {},
     "output_type": "execute_result"
    }
   ],
   "source": [
    "train[bath].corr()"
   ]
  },
  {
   "cell_type": "code",
   "execution_count": 29,
   "metadata": {},
   "outputs": [
    {
     "data": {
      "text/html": [
       "<div>\n",
       "<style scoped>\n",
       "    .dataframe tbody tr th:only-of-type {\n",
       "        vertical-align: middle;\n",
       "    }\n",
       "\n",
       "    .dataframe tbody tr th {\n",
       "        vertical-align: top;\n",
       "    }\n",
       "\n",
       "    .dataframe thead th {\n",
       "        text-align: right;\n",
       "    }\n",
       "</style>\n",
       "<table border=\"1\" class=\"dataframe\">\n",
       "  <thead>\n",
       "    <tr style=\"text-align: right;\">\n",
       "      <th></th>\n",
       "      <th>structuretaxvaluedollarcnt</th>\n",
       "      <th>taxvaluedollarcnt</th>\n",
       "      <th>landtaxvaluedollarcnt</th>\n",
       "      <th>taxamount</th>\n",
       "    </tr>\n",
       "  </thead>\n",
       "  <tbody>\n",
       "    <tr>\n",
       "      <th>structuretaxvaluedollarcnt</th>\n",
       "      <td>1.000000</td>\n",
       "      <td>0.763152</td>\n",
       "      <td>0.561042</td>\n",
       "      <td>0.761241</td>\n",
       "    </tr>\n",
       "    <tr>\n",
       "      <th>taxvaluedollarcnt</th>\n",
       "      <td>0.763152</td>\n",
       "      <td>1.000000</td>\n",
       "      <td>0.963018</td>\n",
       "      <td>0.992811</td>\n",
       "    </tr>\n",
       "    <tr>\n",
       "      <th>landtaxvaluedollarcnt</th>\n",
       "      <td>0.561042</td>\n",
       "      <td>0.963018</td>\n",
       "      <td>1.000000</td>\n",
       "      <td>0.954683</td>\n",
       "    </tr>\n",
       "    <tr>\n",
       "      <th>taxamount</th>\n",
       "      <td>0.761241</td>\n",
       "      <td>0.992811</td>\n",
       "      <td>0.954683</td>\n",
       "      <td>1.000000</td>\n",
       "    </tr>\n",
       "  </tbody>\n",
       "</table>\n",
       "</div>"
      ],
      "text/plain": [
       "                            structuretaxvaluedollarcnt  taxvaluedollarcnt  \\\n",
       "structuretaxvaluedollarcnt                    1.000000           0.763152   \n",
       "taxvaluedollarcnt                             0.763152           1.000000   \n",
       "landtaxvaluedollarcnt                         0.561042           0.963018   \n",
       "taxamount                                     0.761241           0.992811   \n",
       "\n",
       "                            landtaxvaluedollarcnt  taxamount  \n",
       "structuretaxvaluedollarcnt               0.561042   0.761241  \n",
       "taxvaluedollarcnt                        0.963018   0.992811  \n",
       "landtaxvaluedollarcnt                    1.000000   0.954683  \n",
       "taxamount                                0.954683   1.000000  "
      ]
     },
     "execution_count": 29,
     "metadata": {},
     "output_type": "execute_result"
    }
   ],
   "source": [
    "train[value].corr()"
   ]
  },
  {
   "cell_type": "code",
   "execution_count": 30,
   "metadata": {},
   "outputs": [
    {
     "data": {
      "text/html": [
       "<div>\n",
       "<style scoped>\n",
       "    .dataframe tbody tr th:only-of-type {\n",
       "        vertical-align: middle;\n",
       "    }\n",
       "\n",
       "    .dataframe tbody tr th {\n",
       "        vertical-align: top;\n",
       "    }\n",
       "\n",
       "    .dataframe thead th {\n",
       "        text-align: right;\n",
       "    }\n",
       "</style>\n",
       "<table border=\"1\" class=\"dataframe\">\n",
       "  <thead>\n",
       "    <tr style=\"text-align: right;\">\n",
       "      <th></th>\n",
       "      <th>latitude</th>\n",
       "      <th>longitude</th>\n",
       "      <th>rawcensustractandblock</th>\n",
       "      <th>regionidcity</th>\n",
       "      <th>regionidcounty</th>\n",
       "      <th>regionidzip</th>\n",
       "      <th>censustractandblock</th>\n",
       "    </tr>\n",
       "  </thead>\n",
       "  <tbody>\n",
       "    <tr>\n",
       "      <th>latitude</th>\n",
       "      <td>1.000000</td>\n",
       "      <td>-0.545260</td>\n",
       "      <td>-0.066339</td>\n",
       "      <td>-0.020766</td>\n",
       "      <td>0.589046</td>\n",
       "      <td>0.012989</td>\n",
       "      <td>-0.066897</td>\n",
       "    </tr>\n",
       "    <tr>\n",
       "      <th>longitude</th>\n",
       "      <td>-0.545260</td>\n",
       "      <td>1.000000</td>\n",
       "      <td>-0.370433</td>\n",
       "      <td>0.004893</td>\n",
       "      <td>-0.375625</td>\n",
       "      <td>0.029708</td>\n",
       "      <td>-0.368072</td>\n",
       "    </tr>\n",
       "    <tr>\n",
       "      <th>rawcensustractandblock</th>\n",
       "      <td>-0.066339</td>\n",
       "      <td>-0.370433</td>\n",
       "      <td>1.000000</td>\n",
       "      <td>-0.036598</td>\n",
       "      <td>-0.600027</td>\n",
       "      <td>0.035077</td>\n",
       "      <td>0.997099</td>\n",
       "    </tr>\n",
       "    <tr>\n",
       "      <th>regionidcity</th>\n",
       "      <td>-0.020766</td>\n",
       "      <td>0.004893</td>\n",
       "      <td>-0.036598</td>\n",
       "      <td>1.000000</td>\n",
       "      <td>0.056517</td>\n",
       "      <td>-0.011431</td>\n",
       "      <td>-0.036372</td>\n",
       "    </tr>\n",
       "    <tr>\n",
       "      <th>regionidcounty</th>\n",
       "      <td>0.589046</td>\n",
       "      <td>-0.375625</td>\n",
       "      <td>-0.600027</td>\n",
       "      <td>0.056517</td>\n",
       "      <td>1.000000</td>\n",
       "      <td>-0.043594</td>\n",
       "      <td>-0.599148</td>\n",
       "    </tr>\n",
       "    <tr>\n",
       "      <th>regionidzip</th>\n",
       "      <td>0.012989</td>\n",
       "      <td>0.029708</td>\n",
       "      <td>0.035077</td>\n",
       "      <td>-0.011431</td>\n",
       "      <td>-0.043594</td>\n",
       "      <td>1.000000</td>\n",
       "      <td>0.034937</td>\n",
       "    </tr>\n",
       "    <tr>\n",
       "      <th>censustractandblock</th>\n",
       "      <td>-0.066897</td>\n",
       "      <td>-0.368072</td>\n",
       "      <td>0.997099</td>\n",
       "      <td>-0.036372</td>\n",
       "      <td>-0.599148</td>\n",
       "      <td>0.034937</td>\n",
       "      <td>1.000000</td>\n",
       "    </tr>\n",
       "  </tbody>\n",
       "</table>\n",
       "</div>"
      ],
      "text/plain": [
       "                        latitude  longitude  rawcensustractandblock  \\\n",
       "latitude                1.000000  -0.545260               -0.066339   \n",
       "longitude              -0.545260   1.000000               -0.370433   \n",
       "rawcensustractandblock -0.066339  -0.370433                1.000000   \n",
       "regionidcity           -0.020766   0.004893               -0.036598   \n",
       "regionidcounty          0.589046  -0.375625               -0.600027   \n",
       "regionidzip             0.012989   0.029708                0.035077   \n",
       "censustractandblock    -0.066897  -0.368072                0.997099   \n",
       "\n",
       "                        regionidcity  regionidcounty  regionidzip  \\\n",
       "latitude                   -0.020766        0.589046     0.012989   \n",
       "longitude                   0.004893       -0.375625     0.029708   \n",
       "rawcensustractandblock     -0.036598       -0.600027     0.035077   \n",
       "regionidcity                1.000000        0.056517    -0.011431   \n",
       "regionidcounty              0.056517        1.000000    -0.043594   \n",
       "regionidzip                -0.011431       -0.043594     1.000000   \n",
       "censustractandblock        -0.036372       -0.599148     0.034937   \n",
       "\n",
       "                        censustractandblock  \n",
       "latitude                          -0.066897  \n",
       "longitude                         -0.368072  \n",
       "rawcensustractandblock             0.997099  \n",
       "regionidcity                      -0.036372  \n",
       "regionidcounty                    -0.599148  \n",
       "regionidzip                        0.034937  \n",
       "censustractandblock                1.000000  "
      ]
     },
     "execution_count": 30,
     "metadata": {},
     "output_type": "execute_result"
    }
   ],
   "source": [
    "train[loc].corr()"
   ]
  },
  {
   "cell_type": "code",
   "execution_count": 31,
   "metadata": {},
   "outputs": [
    {
     "data": {
      "text/plain": [
       "21013"
      ]
     },
     "execution_count": 31,
     "metadata": {},
     "output_type": "execute_result"
    }
   ],
   "source": [
    "train.censustractandblock.nunique()"
   ]
  },
  {
   "cell_type": "code",
   "execution_count": 36,
   "metadata": {},
   "outputs": [],
   "source": [
    "# drop corrlated columns from split data\n",
    "train = train.drop(columns=(['finishedsquarefeet12', 'landtaxvaluedollarcnt', 'taxamount', 'calculatedbathnbr', 'fullbathcnt']))\n",
    "validate = validate.drop(columns=(['finishedsquarefeet12', 'landtaxvaluedollarcnt', 'taxamount', 'calculatedbathnbr', 'fullbathcnt']))\n",
    "test = test.drop(columns=(['finishedsquarefeet12', 'landtaxvaluedollarcnt', 'taxamount', 'calculatedbathnbr', 'fullbathcnt']))"
   ]
  },
  {
   "cell_type": "code",
   "execution_count": 37,
   "metadata": {},
   "outputs": [
    {
     "name": "stdout",
     "output_type": "stream",
     "text": [
      "(29442, 22) (12618, 22) (10515, 22)\n"
     ]
    }
   ],
   "source": [
    "print(train.shape, validate.shape, test.shape)"
   ]
  },
  {
   "cell_type": "code",
   "execution_count": 38,
   "metadata": {},
   "outputs": [
    {
     "data": {
      "text/html": [
       "<div>\n",
       "<style scoped>\n",
       "    .dataframe tbody tr th:only-of-type {\n",
       "        vertical-align: middle;\n",
       "    }\n",
       "\n",
       "    .dataframe tbody tr th {\n",
       "        vertical-align: top;\n",
       "    }\n",
       "\n",
       "    .dataframe thead th {\n",
       "        text-align: right;\n",
       "    }\n",
       "</style>\n",
       "<table border=\"1\" class=\"dataframe\">\n",
       "  <thead>\n",
       "    <tr style=\"text-align: right;\">\n",
       "      <th></th>\n",
       "      <th>propertylandusetypeid</th>\n",
       "      <th>parcelid</th>\n",
       "      <th>logerror</th>\n",
       "      <th>transactiondate</th>\n",
       "      <th>bathroomcnt</th>\n",
       "      <th>bedroomcnt</th>\n",
       "      <th>calculatedfinishedsquarefeet</th>\n",
       "      <th>fips</th>\n",
       "      <th>latitude</th>\n",
       "      <th>longitude</th>\n",
       "      <th>...</th>\n",
       "      <th>rawcensustractandblock</th>\n",
       "      <th>regionidcity</th>\n",
       "      <th>regionidcounty</th>\n",
       "      <th>regionidzip</th>\n",
       "      <th>roomcnt</th>\n",
       "      <th>yearbuilt</th>\n",
       "      <th>structuretaxvaluedollarcnt</th>\n",
       "      <th>taxvaluedollarcnt</th>\n",
       "      <th>censustractandblock</th>\n",
       "      <th>propertylandusedesc</th>\n",
       "    </tr>\n",
       "  </thead>\n",
       "  <tbody>\n",
       "    <tr>\n",
       "      <th>48073</th>\n",
       "      <td>261.0</td>\n",
       "      <td>12146653</td>\n",
       "      <td>-0.012532</td>\n",
       "      <td>2017-06-19</td>\n",
       "      <td>2.0</td>\n",
       "      <td>4.0</td>\n",
       "      <td>1707.0</td>\n",
       "      <td>6037.0</td>\n",
       "      <td>34116665.0</td>\n",
       "      <td>-118018915.0</td>\n",
       "      <td>...</td>\n",
       "      <td>6.037431e+07</td>\n",
       "      <td>50749.0</td>\n",
       "      <td>3101.0</td>\n",
       "      <td>96267.0</td>\n",
       "      <td>0.0</td>\n",
       "      <td>1952.0</td>\n",
       "      <td>216184.0</td>\n",
       "      <td>720620.0</td>\n",
       "      <td>6.037431e+13</td>\n",
       "      <td>Single Family Residential</td>\n",
       "    </tr>\n",
       "    <tr>\n",
       "      <th>50249</th>\n",
       "      <td>261.0</td>\n",
       "      <td>12500320</td>\n",
       "      <td>-0.004832</td>\n",
       "      <td>2017-06-23</td>\n",
       "      <td>1.0</td>\n",
       "      <td>2.0</td>\n",
       "      <td>1062.0</td>\n",
       "      <td>6037.0</td>\n",
       "      <td>33813689.0</td>\n",
       "      <td>-118193417.0</td>\n",
       "      <td>...</td>\n",
       "      <td>6.037572e+07</td>\n",
       "      <td>46298.0</td>\n",
       "      <td>3101.0</td>\n",
       "      <td>96240.0</td>\n",
       "      <td>0.0</td>\n",
       "      <td>1942.0</td>\n",
       "      <td>69380.0</td>\n",
       "      <td>346902.0</td>\n",
       "      <td>6.037572e+13</td>\n",
       "      <td>Single Family Residential</td>\n",
       "    </tr>\n",
       "    <tr>\n",
       "      <th>23543</th>\n",
       "      <td>261.0</td>\n",
       "      <td>14006290</td>\n",
       "      <td>-0.013975</td>\n",
       "      <td>2017-04-05</td>\n",
       "      <td>2.0</td>\n",
       "      <td>3.0</td>\n",
       "      <td>1703.0</td>\n",
       "      <td>6059.0</td>\n",
       "      <td>33798852.0</td>\n",
       "      <td>-117960559.0</td>\n",
       "      <td>...</td>\n",
       "      <td>6.059088e+07</td>\n",
       "      <td>24832.0</td>\n",
       "      <td>1286.0</td>\n",
       "      <td>97048.0</td>\n",
       "      <td>7.0</td>\n",
       "      <td>1954.0</td>\n",
       "      <td>43063.0</td>\n",
       "      <td>69763.0</td>\n",
       "      <td>6.059088e+13</td>\n",
       "      <td>Single Family Residential</td>\n",
       "    </tr>\n",
       "    <tr>\n",
       "      <th>10112</th>\n",
       "      <td>261.0</td>\n",
       "      <td>11893652</td>\n",
       "      <td>-0.043310</td>\n",
       "      <td>2017-02-15</td>\n",
       "      <td>1.0</td>\n",
       "      <td>2.0</td>\n",
       "      <td>1266.0</td>\n",
       "      <td>6037.0</td>\n",
       "      <td>34102240.0</td>\n",
       "      <td>-118122174.0</td>\n",
       "      <td>...</td>\n",
       "      <td>6.037480e+07</td>\n",
       "      <td>50677.0</td>\n",
       "      <td>3101.0</td>\n",
       "      <td>96531.0</td>\n",
       "      <td>0.0</td>\n",
       "      <td>1924.0</td>\n",
       "      <td>228887.0</td>\n",
       "      <td>685772.0</td>\n",
       "      <td>6.037480e+13</td>\n",
       "      <td>Single Family Residential</td>\n",
       "    </tr>\n",
       "    <tr>\n",
       "      <th>19637</th>\n",
       "      <td>261.0</td>\n",
       "      <td>11290558</td>\n",
       "      <td>-0.041874</td>\n",
       "      <td>2017-03-23</td>\n",
       "      <td>2.0</td>\n",
       "      <td>3.0</td>\n",
       "      <td>1502.0</td>\n",
       "      <td>6037.0</td>\n",
       "      <td>34683103.0</td>\n",
       "      <td>-118116378.0</td>\n",
       "      <td>...</td>\n",
       "      <td>6.037901e+07</td>\n",
       "      <td>5534.0</td>\n",
       "      <td>3101.0</td>\n",
       "      <td>97318.0</td>\n",
       "      <td>0.0</td>\n",
       "      <td>1978.0</td>\n",
       "      <td>85811.0</td>\n",
       "      <td>114486.0</td>\n",
       "      <td>6.037901e+13</td>\n",
       "      <td>Single Family Residential</td>\n",
       "    </tr>\n",
       "  </tbody>\n",
       "</table>\n",
       "<p>5 rows × 22 columns</p>\n",
       "</div>"
      ],
      "text/plain": [
       "       propertylandusetypeid  parcelid  logerror transactiondate  bathroomcnt  \\\n",
       "48073                  261.0  12146653 -0.012532      2017-06-19          2.0   \n",
       "50249                  261.0  12500320 -0.004832      2017-06-23          1.0   \n",
       "23543                  261.0  14006290 -0.013975      2017-04-05          2.0   \n",
       "10112                  261.0  11893652 -0.043310      2017-02-15          1.0   \n",
       "19637                  261.0  11290558 -0.041874      2017-03-23          2.0   \n",
       "\n",
       "       bedroomcnt  calculatedfinishedsquarefeet    fips    latitude  \\\n",
       "48073         4.0                        1707.0  6037.0  34116665.0   \n",
       "50249         2.0                        1062.0  6037.0  33813689.0   \n",
       "23543         3.0                        1703.0  6059.0  33798852.0   \n",
       "10112         2.0                        1266.0  6037.0  34102240.0   \n",
       "19637         3.0                        1502.0  6037.0  34683103.0   \n",
       "\n",
       "         longitude  ...  rawcensustractandblock regionidcity  regionidcounty  \\\n",
       "48073 -118018915.0  ...            6.037431e+07      50749.0          3101.0   \n",
       "50249 -118193417.0  ...            6.037572e+07      46298.0          3101.0   \n",
       "23543 -117960559.0  ...            6.059088e+07      24832.0          1286.0   \n",
       "10112 -118122174.0  ...            6.037480e+07      50677.0          3101.0   \n",
       "19637 -118116378.0  ...            6.037901e+07       5534.0          3101.0   \n",
       "\n",
       "       regionidzip  roomcnt  yearbuilt  structuretaxvaluedollarcnt  \\\n",
       "48073      96267.0      0.0     1952.0                    216184.0   \n",
       "50249      96240.0      0.0     1942.0                     69380.0   \n",
       "23543      97048.0      7.0     1954.0                     43063.0   \n",
       "10112      96531.0      0.0     1924.0                    228887.0   \n",
       "19637      97318.0      0.0     1978.0                     85811.0   \n",
       "\n",
       "       taxvaluedollarcnt  censustractandblock        propertylandusedesc  \n",
       "48073           720620.0         6.037431e+13  Single Family Residential  \n",
       "50249           346902.0         6.037572e+13  Single Family Residential  \n",
       "23543            69763.0         6.059088e+13  Single Family Residential  \n",
       "10112           685772.0         6.037480e+13  Single Family Residential  \n",
       "19637           114486.0         6.037901e+13  Single Family Residential  \n",
       "\n",
       "[5 rows x 22 columns]"
      ]
     },
     "execution_count": 38,
     "metadata": {},
     "output_type": "execute_result"
    }
   ],
   "source": [
    "train.head()"
   ]
  },
  {
   "cell_type": "markdown",
   "metadata": {},
   "source": [
    "***\n",
    "#### Key Takeaways: \n",
    "\n",
    "* calculatedfinishedsquarefeet & finishedsquarefeet12 highly correlated \n",
    "    * drop finishedsquarefeet12  \n",
    "* calculatedbathnbr hihgly correlated with bathroomcnt less so with bedroomcnt\n",
    "    * going to drop all except bathroomcnt & bedroomcnt \n",
    "* taxvaluedollarcount highly correlated with all others in this group     \n",
    "    * correlation b/w taxvaluedollarcnt & structuretaxvaluedollarcnt weaker, keep these two and drop others       \n",
    "* Not able to deal w/location features using correlation\n",
    "       \n",
    "***"
   ]
  },
  {
   "cell_type": "markdown",
   "metadata": {},
   "source": [
    "# Feature Engineering"
   ]
  },
  {
   "cell_type": "code",
   "execution_count": 39,
   "metadata": {},
   "outputs": [
    {
     "data": {
      "text/html": [
       "<div>\n",
       "<style scoped>\n",
       "    .dataframe tbody tr th:only-of-type {\n",
       "        vertical-align: middle;\n",
       "    }\n",
       "\n",
       "    .dataframe tbody tr th {\n",
       "        vertical-align: top;\n",
       "    }\n",
       "\n",
       "    .dataframe thead th {\n",
       "        text-align: right;\n",
       "    }\n",
       "</style>\n",
       "<table border=\"1\" class=\"dataframe\">\n",
       "  <thead>\n",
       "    <tr style=\"text-align: right;\">\n",
       "      <th></th>\n",
       "      <th>propertylandusetypeid</th>\n",
       "      <th>parcelid</th>\n",
       "      <th>logerror</th>\n",
       "      <th>bathroomcnt</th>\n",
       "      <th>bedroomcnt</th>\n",
       "      <th>calculatedfinishedsquarefeet</th>\n",
       "      <th>fips</th>\n",
       "      <th>latitude</th>\n",
       "      <th>longitude</th>\n",
       "      <th>lotsizesquarefeet</th>\n",
       "      <th>rawcensustractandblock</th>\n",
       "      <th>regionidcity</th>\n",
       "      <th>regionidcounty</th>\n",
       "      <th>regionidzip</th>\n",
       "      <th>roomcnt</th>\n",
       "      <th>yearbuilt</th>\n",
       "      <th>structuretaxvaluedollarcnt</th>\n",
       "      <th>taxvaluedollarcnt</th>\n",
       "      <th>censustractandblock</th>\n",
       "    </tr>\n",
       "  </thead>\n",
       "  <tbody>\n",
       "    <tr>\n",
       "      <th>logerror</th>\n",
       "      <td>0.003963</td>\n",
       "      <td>0.008820</td>\n",
       "      <td>1.000000</td>\n",
       "      <td>0.039157</td>\n",
       "      <td>0.045662</td>\n",
       "      <td>0.044302</td>\n",
       "      <td>0.006872</td>\n",
       "      <td>-0.012943</td>\n",
       "      <td>0.017571</td>\n",
       "      <td>0.008989</td>\n",
       "      <td>0.006825</td>\n",
       "      <td>0.004938</td>\n",
       "      <td>-0.017636</td>\n",
       "      <td>0.004335</td>\n",
       "      <td>0.012615</td>\n",
       "      <td>0.017636</td>\n",
       "      <td>0.009564</td>\n",
       "      <td>0.009922</td>\n",
       "      <td>0.006582</td>\n",
       "    </tr>\n",
       "    <tr>\n",
       "      <th>bedroomcnt</th>\n",
       "      <td>-0.073739</td>\n",
       "      <td>0.056429</td>\n",
       "      <td>0.045662</td>\n",
       "      <td>0.655838</td>\n",
       "      <td>1.000000</td>\n",
       "      <td>0.626927</td>\n",
       "      <td>0.123968</td>\n",
       "      <td>0.007550</td>\n",
       "      <td>0.005129</td>\n",
       "      <td>0.008596</td>\n",
       "      <td>0.124427</td>\n",
       "      <td>-0.044181</td>\n",
       "      <td>-0.137768</td>\n",
       "      <td>0.025483</td>\n",
       "      <td>0.173069</td>\n",
       "      <td>0.382693</td>\n",
       "      <td>0.373463</td>\n",
       "      <td>0.272500</td>\n",
       "      <td>0.125271</td>\n",
       "    </tr>\n",
       "    <tr>\n",
       "      <th>calculatedfinishedsquarefeet</th>\n",
       "      <td>-0.016102</td>\n",
       "      <td>0.056994</td>\n",
       "      <td>0.044302</td>\n",
       "      <td>0.846659</td>\n",
       "      <td>0.626927</td>\n",
       "      <td>1.000000</td>\n",
       "      <td>0.108526</td>\n",
       "      <td>-0.047161</td>\n",
       "      <td>0.001540</td>\n",
       "      <td>0.044601</td>\n",
       "      <td>0.108203</td>\n",
       "      <td>-0.045958</td>\n",
       "      <td>-0.141047</td>\n",
       "      <td>0.030104</td>\n",
       "      <td>0.081714</td>\n",
       "      <td>0.451610</td>\n",
       "      <td>0.763987</td>\n",
       "      <td>0.601421</td>\n",
       "      <td>0.107034</td>\n",
       "    </tr>\n",
       "    <tr>\n",
       "      <th>bathroomcnt</th>\n",
       "      <td>-0.036640</td>\n",
       "      <td>0.052523</td>\n",
       "      <td>0.039157</td>\n",
       "      <td>1.000000</td>\n",
       "      <td>0.655838</td>\n",
       "      <td>0.846659</td>\n",
       "      <td>0.104996</td>\n",
       "      <td>-0.023206</td>\n",
       "      <td>0.007356</td>\n",
       "      <td>0.028977</td>\n",
       "      <td>0.104920</td>\n",
       "      <td>-0.048664</td>\n",
       "      <td>-0.143887</td>\n",
       "      <td>0.031354</td>\n",
       "      <td>0.077597</td>\n",
       "      <td>0.521828</td>\n",
       "      <td>0.647014</td>\n",
       "      <td>0.513012</td>\n",
       "      <td>0.104763</td>\n",
       "    </tr>\n",
       "    <tr>\n",
       "      <th>yearbuilt</th>\n",
       "      <td>0.027419</td>\n",
       "      <td>0.156971</td>\n",
       "      <td>0.017636</td>\n",
       "      <td>0.521828</td>\n",
       "      <td>0.382693</td>\n",
       "      <td>0.451610</td>\n",
       "      <td>0.292708</td>\n",
       "      <td>0.047185</td>\n",
       "      <td>0.097568</td>\n",
       "      <td>0.036722</td>\n",
       "      <td>0.294762</td>\n",
       "      <td>-0.077578</td>\n",
       "      <td>-0.344778</td>\n",
       "      <td>0.053741</td>\n",
       "      <td>0.187098</td>\n",
       "      <td>1.000000</td>\n",
       "      <td>0.347417</td>\n",
       "      <td>0.164636</td>\n",
       "      <td>0.293544</td>\n",
       "    </tr>\n",
       "    <tr>\n",
       "      <th>longitude</th>\n",
       "      <td>-0.082294</td>\n",
       "      <td>-0.048844</td>\n",
       "      <td>0.017571</td>\n",
       "      <td>0.007356</td>\n",
       "      <td>0.005129</td>\n",
       "      <td>0.001540</td>\n",
       "      <td>-0.367436</td>\n",
       "      <td>-0.545260</td>\n",
       "      <td>1.000000</td>\n",
       "      <td>-0.014267</td>\n",
       "      <td>-0.370433</td>\n",
       "      <td>0.004893</td>\n",
       "      <td>-0.375625</td>\n",
       "      <td>0.029708</td>\n",
       "      <td>-0.014668</td>\n",
       "      <td>0.097568</td>\n",
       "      <td>-0.049037</td>\n",
       "      <td>-0.033629</td>\n",
       "      <td>-0.368072</td>\n",
       "    </tr>\n",
       "    <tr>\n",
       "      <th>roomcnt</th>\n",
       "      <td>0.006245</td>\n",
       "      <td>0.370542</td>\n",
       "      <td>0.012615</td>\n",
       "      <td>0.077597</td>\n",
       "      <td>0.173069</td>\n",
       "      <td>0.081714</td>\n",
       "      <td>0.738828</td>\n",
       "      <td>-0.285856</td>\n",
       "      <td>-0.014668</td>\n",
       "      <td>-0.011649</td>\n",
       "      <td>0.736820</td>\n",
       "      <td>-0.042679</td>\n",
       "      <td>-0.749377</td>\n",
       "      <td>0.034521</td>\n",
       "      <td>1.000000</td>\n",
       "      <td>0.187098</td>\n",
       "      <td>-0.038802</td>\n",
       "      <td>-0.006169</td>\n",
       "      <td>0.736591</td>\n",
       "    </tr>\n",
       "    <tr>\n",
       "      <th>taxvaluedollarcnt</th>\n",
       "      <td>-0.016937</td>\n",
       "      <td>0.015991</td>\n",
       "      <td>0.009922</td>\n",
       "      <td>0.513012</td>\n",
       "      <td>0.272500</td>\n",
       "      <td>0.601421</td>\n",
       "      <td>0.023255</td>\n",
       "      <td>-0.119998</td>\n",
       "      <td>-0.033629</td>\n",
       "      <td>0.024551</td>\n",
       "      <td>0.022443</td>\n",
       "      <td>-0.022958</td>\n",
       "      <td>-0.058306</td>\n",
       "      <td>0.020485</td>\n",
       "      <td>-0.006169</td>\n",
       "      <td>0.164636</td>\n",
       "      <td>0.763152</td>\n",
       "      <td>1.000000</td>\n",
       "      <td>0.022004</td>\n",
       "    </tr>\n",
       "    <tr>\n",
       "      <th>structuretaxvaluedollarcnt</th>\n",
       "      <td>-0.017915</td>\n",
       "      <td>0.031144</td>\n",
       "      <td>0.009564</td>\n",
       "      <td>0.647014</td>\n",
       "      <td>0.373463</td>\n",
       "      <td>0.763987</td>\n",
       "      <td>0.065593</td>\n",
       "      <td>-0.038402</td>\n",
       "      <td>-0.049037</td>\n",
       "      <td>0.041107</td>\n",
       "      <td>0.065471</td>\n",
       "      <td>-0.035241</td>\n",
       "      <td>-0.053405</td>\n",
       "      <td>0.017279</td>\n",
       "      <td>-0.038802</td>\n",
       "      <td>0.347417</td>\n",
       "      <td>1.000000</td>\n",
       "      <td>0.763152</td>\n",
       "      <td>0.064606</td>\n",
       "    </tr>\n",
       "    <tr>\n",
       "      <th>lotsizesquarefeet</th>\n",
       "      <td>0.004607</td>\n",
       "      <td>-0.009717</td>\n",
       "      <td>0.008989</td>\n",
       "      <td>0.028977</td>\n",
       "      <td>0.008596</td>\n",
       "      <td>0.044601</td>\n",
       "      <td>-0.004746</td>\n",
       "      <td>0.058190</td>\n",
       "      <td>-0.014267</td>\n",
       "      <td>1.000000</td>\n",
       "      <td>-0.004078</td>\n",
       "      <td>-0.009648</td>\n",
       "      <td>0.022652</td>\n",
       "      <td>0.010375</td>\n",
       "      <td>-0.011649</td>\n",
       "      <td>0.036722</td>\n",
       "      <td>0.041107</td>\n",
       "      <td>0.024551</td>\n",
       "      <td>-0.004107</td>\n",
       "    </tr>\n",
       "    <tr>\n",
       "      <th>parcelid</th>\n",
       "      <td>0.038025</td>\n",
       "      <td>1.000000</td>\n",
       "      <td>0.008820</td>\n",
       "      <td>0.052523</td>\n",
       "      <td>0.056429</td>\n",
       "      <td>0.056994</td>\n",
       "      <td>0.466557</td>\n",
       "      <td>-0.154819</td>\n",
       "      <td>-0.048844</td>\n",
       "      <td>-0.009717</td>\n",
       "      <td>0.466303</td>\n",
       "      <td>-0.020676</td>\n",
       "      <td>-0.347100</td>\n",
       "      <td>0.023368</td>\n",
       "      <td>0.370542</td>\n",
       "      <td>0.156971</td>\n",
       "      <td>0.031144</td>\n",
       "      <td>0.015991</td>\n",
       "      <td>0.465335</td>\n",
       "    </tr>\n",
       "    <tr>\n",
       "      <th>fips</th>\n",
       "      <td>0.095766</td>\n",
       "      <td>0.466557</td>\n",
       "      <td>0.006872</td>\n",
       "      <td>0.104996</td>\n",
       "      <td>0.123968</td>\n",
       "      <td>0.108526</td>\n",
       "      <td>1.000000</td>\n",
       "      <td>-0.072298</td>\n",
       "      <td>-0.367436</td>\n",
       "      <td>-0.004746</td>\n",
       "      <td>0.999937</td>\n",
       "      <td>-0.037507</td>\n",
       "      <td>-0.604348</td>\n",
       "      <td>0.034933</td>\n",
       "      <td>0.738828</td>\n",
       "      <td>0.292708</td>\n",
       "      <td>0.065593</td>\n",
       "      <td>0.023255</td>\n",
       "      <td>0.997042</td>\n",
       "    </tr>\n",
       "    <tr>\n",
       "      <th>rawcensustractandblock</th>\n",
       "      <td>0.096128</td>\n",
       "      <td>0.466303</td>\n",
       "      <td>0.006825</td>\n",
       "      <td>0.104920</td>\n",
       "      <td>0.124427</td>\n",
       "      <td>0.108203</td>\n",
       "      <td>0.999937</td>\n",
       "      <td>-0.066339</td>\n",
       "      <td>-0.370433</td>\n",
       "      <td>-0.004078</td>\n",
       "      <td>1.000000</td>\n",
       "      <td>-0.036598</td>\n",
       "      <td>-0.600027</td>\n",
       "      <td>0.035077</td>\n",
       "      <td>0.736820</td>\n",
       "      <td>0.294762</td>\n",
       "      <td>0.065471</td>\n",
       "      <td>0.022443</td>\n",
       "      <td>0.997099</td>\n",
       "    </tr>\n",
       "    <tr>\n",
       "      <th>censustractandblock</th>\n",
       "      <td>0.096364</td>\n",
       "      <td>0.465335</td>\n",
       "      <td>0.006582</td>\n",
       "      <td>0.104763</td>\n",
       "      <td>0.125271</td>\n",
       "      <td>0.107034</td>\n",
       "      <td>0.997042</td>\n",
       "      <td>-0.066897</td>\n",
       "      <td>-0.368072</td>\n",
       "      <td>-0.004107</td>\n",
       "      <td>0.997099</td>\n",
       "      <td>-0.036372</td>\n",
       "      <td>-0.599148</td>\n",
       "      <td>0.034937</td>\n",
       "      <td>0.736591</td>\n",
       "      <td>0.293544</td>\n",
       "      <td>0.064606</td>\n",
       "      <td>0.022004</td>\n",
       "      <td>1.000000</td>\n",
       "    </tr>\n",
       "    <tr>\n",
       "      <th>regionidcity</th>\n",
       "      <td>0.005550</td>\n",
       "      <td>-0.020676</td>\n",
       "      <td>0.004938</td>\n",
       "      <td>-0.048664</td>\n",
       "      <td>-0.044181</td>\n",
       "      <td>-0.045958</td>\n",
       "      <td>-0.037507</td>\n",
       "      <td>-0.020766</td>\n",
       "      <td>0.004893</td>\n",
       "      <td>-0.009648</td>\n",
       "      <td>-0.036598</td>\n",
       "      <td>1.000000</td>\n",
       "      <td>0.056517</td>\n",
       "      <td>-0.011431</td>\n",
       "      <td>-0.042679</td>\n",
       "      <td>-0.077578</td>\n",
       "      <td>-0.035241</td>\n",
       "      <td>-0.022958</td>\n",
       "      <td>-0.036372</td>\n",
       "    </tr>\n",
       "    <tr>\n",
       "      <th>regionidzip</th>\n",
       "      <td>0.003739</td>\n",
       "      <td>0.023368</td>\n",
       "      <td>0.004335</td>\n",
       "      <td>0.031354</td>\n",
       "      <td>0.025483</td>\n",
       "      <td>0.030104</td>\n",
       "      <td>0.034933</td>\n",
       "      <td>0.012989</td>\n",
       "      <td>0.029708</td>\n",
       "      <td>0.010375</td>\n",
       "      <td>0.035077</td>\n",
       "      <td>-0.011431</td>\n",
       "      <td>-0.043594</td>\n",
       "      <td>1.000000</td>\n",
       "      <td>0.034521</td>\n",
       "      <td>0.053741</td>\n",
       "      <td>0.017279</td>\n",
       "      <td>0.020485</td>\n",
       "      <td>0.034937</td>\n",
       "    </tr>\n",
       "    <tr>\n",
       "      <th>propertylandusetypeid</th>\n",
       "      <td>1.000000</td>\n",
       "      <td>0.038025</td>\n",
       "      <td>0.003963</td>\n",
       "      <td>-0.036640</td>\n",
       "      <td>-0.073739</td>\n",
       "      <td>-0.016102</td>\n",
       "      <td>0.095766</td>\n",
       "      <td>0.034463</td>\n",
       "      <td>-0.082294</td>\n",
       "      <td>0.004607</td>\n",
       "      <td>0.096128</td>\n",
       "      <td>0.005550</td>\n",
       "      <td>-0.016714</td>\n",
       "      <td>0.003739</td>\n",
       "      <td>0.006245</td>\n",
       "      <td>0.027419</td>\n",
       "      <td>-0.017915</td>\n",
       "      <td>-0.016937</td>\n",
       "      <td>0.096364</td>\n",
       "    </tr>\n",
       "    <tr>\n",
       "      <th>latitude</th>\n",
       "      <td>0.034463</td>\n",
       "      <td>-0.154819</td>\n",
       "      <td>-0.012943</td>\n",
       "      <td>-0.023206</td>\n",
       "      <td>0.007550</td>\n",
       "      <td>-0.047161</td>\n",
       "      <td>-0.072298</td>\n",
       "      <td>1.000000</td>\n",
       "      <td>-0.545260</td>\n",
       "      <td>0.058190</td>\n",
       "      <td>-0.066339</td>\n",
       "      <td>-0.020766</td>\n",
       "      <td>0.589046</td>\n",
       "      <td>0.012989</td>\n",
       "      <td>-0.285856</td>\n",
       "      <td>0.047185</td>\n",
       "      <td>-0.038402</td>\n",
       "      <td>-0.119998</td>\n",
       "      <td>-0.066897</td>\n",
       "    </tr>\n",
       "    <tr>\n",
       "      <th>regionidcounty</th>\n",
       "      <td>-0.016714</td>\n",
       "      <td>-0.347100</td>\n",
       "      <td>-0.017636</td>\n",
       "      <td>-0.143887</td>\n",
       "      <td>-0.137768</td>\n",
       "      <td>-0.141047</td>\n",
       "      <td>-0.604348</td>\n",
       "      <td>0.589046</td>\n",
       "      <td>-0.375625</td>\n",
       "      <td>0.022652</td>\n",
       "      <td>-0.600027</td>\n",
       "      <td>0.056517</td>\n",
       "      <td>1.000000</td>\n",
       "      <td>-0.043594</td>\n",
       "      <td>-0.749377</td>\n",
       "      <td>-0.344778</td>\n",
       "      <td>-0.053405</td>\n",
       "      <td>-0.058306</td>\n",
       "      <td>-0.599148</td>\n",
       "    </tr>\n",
       "  </tbody>\n",
       "</table>\n",
       "</div>"
      ],
      "text/plain": [
       "                              propertylandusetypeid  parcelid  logerror  \\\n",
       "logerror                                   0.003963  0.008820  1.000000   \n",
       "bedroomcnt                                -0.073739  0.056429  0.045662   \n",
       "calculatedfinishedsquarefeet              -0.016102  0.056994  0.044302   \n",
       "bathroomcnt                               -0.036640  0.052523  0.039157   \n",
       "yearbuilt                                  0.027419  0.156971  0.017636   \n",
       "longitude                                 -0.082294 -0.048844  0.017571   \n",
       "roomcnt                                    0.006245  0.370542  0.012615   \n",
       "taxvaluedollarcnt                         -0.016937  0.015991  0.009922   \n",
       "structuretaxvaluedollarcnt                -0.017915  0.031144  0.009564   \n",
       "lotsizesquarefeet                          0.004607 -0.009717  0.008989   \n",
       "parcelid                                   0.038025  1.000000  0.008820   \n",
       "fips                                       0.095766  0.466557  0.006872   \n",
       "rawcensustractandblock                     0.096128  0.466303  0.006825   \n",
       "censustractandblock                        0.096364  0.465335  0.006582   \n",
       "regionidcity                               0.005550 -0.020676  0.004938   \n",
       "regionidzip                                0.003739  0.023368  0.004335   \n",
       "propertylandusetypeid                      1.000000  0.038025  0.003963   \n",
       "latitude                                   0.034463 -0.154819 -0.012943   \n",
       "regionidcounty                            -0.016714 -0.347100 -0.017636   \n",
       "\n",
       "                              bathroomcnt  bedroomcnt  \\\n",
       "logerror                         0.039157    0.045662   \n",
       "bedroomcnt                       0.655838    1.000000   \n",
       "calculatedfinishedsquarefeet     0.846659    0.626927   \n",
       "bathroomcnt                      1.000000    0.655838   \n",
       "yearbuilt                        0.521828    0.382693   \n",
       "longitude                        0.007356    0.005129   \n",
       "roomcnt                          0.077597    0.173069   \n",
       "taxvaluedollarcnt                0.513012    0.272500   \n",
       "structuretaxvaluedollarcnt       0.647014    0.373463   \n",
       "lotsizesquarefeet                0.028977    0.008596   \n",
       "parcelid                         0.052523    0.056429   \n",
       "fips                             0.104996    0.123968   \n",
       "rawcensustractandblock           0.104920    0.124427   \n",
       "censustractandblock              0.104763    0.125271   \n",
       "regionidcity                    -0.048664   -0.044181   \n",
       "regionidzip                      0.031354    0.025483   \n",
       "propertylandusetypeid           -0.036640   -0.073739   \n",
       "latitude                        -0.023206    0.007550   \n",
       "regionidcounty                  -0.143887   -0.137768   \n",
       "\n",
       "                              calculatedfinishedsquarefeet      fips  \\\n",
       "logerror                                          0.044302  0.006872   \n",
       "bedroomcnt                                        0.626927  0.123968   \n",
       "calculatedfinishedsquarefeet                      1.000000  0.108526   \n",
       "bathroomcnt                                       0.846659  0.104996   \n",
       "yearbuilt                                         0.451610  0.292708   \n",
       "longitude                                         0.001540 -0.367436   \n",
       "roomcnt                                           0.081714  0.738828   \n",
       "taxvaluedollarcnt                                 0.601421  0.023255   \n",
       "structuretaxvaluedollarcnt                        0.763987  0.065593   \n",
       "lotsizesquarefeet                                 0.044601 -0.004746   \n",
       "parcelid                                          0.056994  0.466557   \n",
       "fips                                              0.108526  1.000000   \n",
       "rawcensustractandblock                            0.108203  0.999937   \n",
       "censustractandblock                               0.107034  0.997042   \n",
       "regionidcity                                     -0.045958 -0.037507   \n",
       "regionidzip                                       0.030104  0.034933   \n",
       "propertylandusetypeid                            -0.016102  0.095766   \n",
       "latitude                                         -0.047161 -0.072298   \n",
       "regionidcounty                                   -0.141047 -0.604348   \n",
       "\n",
       "                              latitude  longitude  lotsizesquarefeet  \\\n",
       "logerror                     -0.012943   0.017571           0.008989   \n",
       "bedroomcnt                    0.007550   0.005129           0.008596   \n",
       "calculatedfinishedsquarefeet -0.047161   0.001540           0.044601   \n",
       "bathroomcnt                  -0.023206   0.007356           0.028977   \n",
       "yearbuilt                     0.047185   0.097568           0.036722   \n",
       "longitude                    -0.545260   1.000000          -0.014267   \n",
       "roomcnt                      -0.285856  -0.014668          -0.011649   \n",
       "taxvaluedollarcnt            -0.119998  -0.033629           0.024551   \n",
       "structuretaxvaluedollarcnt   -0.038402  -0.049037           0.041107   \n",
       "lotsizesquarefeet             0.058190  -0.014267           1.000000   \n",
       "parcelid                     -0.154819  -0.048844          -0.009717   \n",
       "fips                         -0.072298  -0.367436          -0.004746   \n",
       "rawcensustractandblock       -0.066339  -0.370433          -0.004078   \n",
       "censustractandblock          -0.066897  -0.368072          -0.004107   \n",
       "regionidcity                 -0.020766   0.004893          -0.009648   \n",
       "regionidzip                   0.012989   0.029708           0.010375   \n",
       "propertylandusetypeid         0.034463  -0.082294           0.004607   \n",
       "latitude                      1.000000  -0.545260           0.058190   \n",
       "regionidcounty                0.589046  -0.375625           0.022652   \n",
       "\n",
       "                              rawcensustractandblock  regionidcity  \\\n",
       "logerror                                    0.006825      0.004938   \n",
       "bedroomcnt                                  0.124427     -0.044181   \n",
       "calculatedfinishedsquarefeet                0.108203     -0.045958   \n",
       "bathroomcnt                                 0.104920     -0.048664   \n",
       "yearbuilt                                   0.294762     -0.077578   \n",
       "longitude                                  -0.370433      0.004893   \n",
       "roomcnt                                     0.736820     -0.042679   \n",
       "taxvaluedollarcnt                           0.022443     -0.022958   \n",
       "structuretaxvaluedollarcnt                  0.065471     -0.035241   \n",
       "lotsizesquarefeet                          -0.004078     -0.009648   \n",
       "parcelid                                    0.466303     -0.020676   \n",
       "fips                                        0.999937     -0.037507   \n",
       "rawcensustractandblock                      1.000000     -0.036598   \n",
       "censustractandblock                         0.997099     -0.036372   \n",
       "regionidcity                               -0.036598      1.000000   \n",
       "regionidzip                                 0.035077     -0.011431   \n",
       "propertylandusetypeid                       0.096128      0.005550   \n",
       "latitude                                   -0.066339     -0.020766   \n",
       "regionidcounty                             -0.600027      0.056517   \n",
       "\n",
       "                              regionidcounty  regionidzip   roomcnt  \\\n",
       "logerror                           -0.017636     0.004335  0.012615   \n",
       "bedroomcnt                         -0.137768     0.025483  0.173069   \n",
       "calculatedfinishedsquarefeet       -0.141047     0.030104  0.081714   \n",
       "bathroomcnt                        -0.143887     0.031354  0.077597   \n",
       "yearbuilt                          -0.344778     0.053741  0.187098   \n",
       "longitude                          -0.375625     0.029708 -0.014668   \n",
       "roomcnt                            -0.749377     0.034521  1.000000   \n",
       "taxvaluedollarcnt                  -0.058306     0.020485 -0.006169   \n",
       "structuretaxvaluedollarcnt         -0.053405     0.017279 -0.038802   \n",
       "lotsizesquarefeet                   0.022652     0.010375 -0.011649   \n",
       "parcelid                           -0.347100     0.023368  0.370542   \n",
       "fips                               -0.604348     0.034933  0.738828   \n",
       "rawcensustractandblock             -0.600027     0.035077  0.736820   \n",
       "censustractandblock                -0.599148     0.034937  0.736591   \n",
       "regionidcity                        0.056517    -0.011431 -0.042679   \n",
       "regionidzip                        -0.043594     1.000000  0.034521   \n",
       "propertylandusetypeid              -0.016714     0.003739  0.006245   \n",
       "latitude                            0.589046     0.012989 -0.285856   \n",
       "regionidcounty                      1.000000    -0.043594 -0.749377   \n",
       "\n",
       "                              yearbuilt  structuretaxvaluedollarcnt  \\\n",
       "logerror                       0.017636                    0.009564   \n",
       "bedroomcnt                     0.382693                    0.373463   \n",
       "calculatedfinishedsquarefeet   0.451610                    0.763987   \n",
       "bathroomcnt                    0.521828                    0.647014   \n",
       "yearbuilt                      1.000000                    0.347417   \n",
       "longitude                      0.097568                   -0.049037   \n",
       "roomcnt                        0.187098                   -0.038802   \n",
       "taxvaluedollarcnt              0.164636                    0.763152   \n",
       "structuretaxvaluedollarcnt     0.347417                    1.000000   \n",
       "lotsizesquarefeet              0.036722                    0.041107   \n",
       "parcelid                       0.156971                    0.031144   \n",
       "fips                           0.292708                    0.065593   \n",
       "rawcensustractandblock         0.294762                    0.065471   \n",
       "censustractandblock            0.293544                    0.064606   \n",
       "regionidcity                  -0.077578                   -0.035241   \n",
       "regionidzip                    0.053741                    0.017279   \n",
       "propertylandusetypeid          0.027419                   -0.017915   \n",
       "latitude                       0.047185                   -0.038402   \n",
       "regionidcounty                -0.344778                   -0.053405   \n",
       "\n",
       "                              taxvaluedollarcnt  censustractandblock  \n",
       "logerror                               0.009922             0.006582  \n",
       "bedroomcnt                             0.272500             0.125271  \n",
       "calculatedfinishedsquarefeet           0.601421             0.107034  \n",
       "bathroomcnt                            0.513012             0.104763  \n",
       "yearbuilt                              0.164636             0.293544  \n",
       "longitude                             -0.033629            -0.368072  \n",
       "roomcnt                               -0.006169             0.736591  \n",
       "taxvaluedollarcnt                      1.000000             0.022004  \n",
       "structuretaxvaluedollarcnt             0.763152             0.064606  \n",
       "lotsizesquarefeet                      0.024551            -0.004107  \n",
       "parcelid                               0.015991             0.465335  \n",
       "fips                                   0.023255             0.997042  \n",
       "rawcensustractandblock                 0.022443             0.997099  \n",
       "censustractandblock                    0.022004             1.000000  \n",
       "regionidcity                          -0.022958            -0.036372  \n",
       "regionidzip                            0.020485             0.034937  \n",
       "propertylandusetypeid                 -0.016937             0.096364  \n",
       "latitude                              -0.119998            -0.066897  \n",
       "regionidcounty                        -0.058306            -0.599148  "
      ]
     },
     "execution_count": 39,
     "metadata": {},
     "output_type": "execute_result"
    }
   ],
   "source": [
    "train.corr().sort_values('logerror', ascending=False)"
   ]
  },
  {
   "cell_type": "code",
   "execution_count": 43,
   "metadata": {},
   "outputs": [],
   "source": [
    "# combine sqft with highly correlated features in order to eliminate noise\n",
    "train['bedsqft'] = train.bedroomcnt/train.calculatedfinishedsquarefeet\n",
    "train['bathsqft'] = train.bathroomcnt/train.calculatedfinishedsquarefeet\n",
    "train['pricesqft'] = train.taxvaluedollarcnt/train.calculatedfinishedsquarefeet"
   ]
  },
  {
   "cell_type": "code",
   "execution_count": null,
   "metadata": {},
   "outputs": [],
   "source": [
    "\n"
   ]
  },
  {
   "cell_type": "code",
   "execution_count": null,
   "metadata": {},
   "outputs": [],
   "source": []
  },
  {
   "cell_type": "code",
   "execution_count": null,
   "metadata": {},
   "outputs": [],
   "source": [
    "# Create log quartile column to separate logerror extremes and identify trends\n",
    "log_quantile = [1,2,3,4]\n",
    "train['log_quantile'] = pd.qcut(train['logerror'], q=[0,.25,.5,.75,1], labels = log_quantile)"
   ]
  },
  {
   "cell_type": "code",
   "execution_count": null,
   "metadata": {},
   "outputs": [],
   "source": [
    "plt.figure(figsize=(16, 15))\n",
    "sns.scatterplot(data=train, x=train.latitude, y=train.longitude, hue=train.yearbuilt, size=train.log_quantile)"
   ]
  },
  {
   "cell_type": "code",
   "execution_count": null,
   "metadata": {},
   "outputs": [],
   "source": [
    "plt.figure(figsize=(16, 15))\n",
    "sns.scatterplot(data=train, x=train.latitude, y=train.longitude, hue=train.regionidcity)"
   ]
  },
  {
   "cell_type": "code",
   "execution_count": null,
   "metadata": {},
   "outputs": [],
   "source": [
    "plt.figure(figsize=(16, 15))\n",
    "sns.scatterplot(data=df2, x=df2.transactiondate, y=df2.logerror, hue=df2.log_quantile)"
   ]
  },
  {
   "cell_type": "code",
   "execution_count": null,
   "metadata": {},
   "outputs": [],
   "source": [
    "plt.figure(figsize=(16, 15))\n",
    "sns.scatterplot(data=df2, x=df2.yearbuilt, y=df2.logerror)"
   ]
  },
  {
   "cell_type": "code",
   "execution_count": null,
   "metadata": {},
   "outputs": [],
   "source": [
    "# Assign X to X_train for simplicity\n",
    "X = X_train"
   ]
  },
  {
   "cell_type": "code",
   "execution_count": null,
   "metadata": {},
   "outputs": [],
   "source": [
    "plt.figure(figsize=(16, 15))\n",
    "sns.scatterplot(data=df2, x=df2.latitude, y=df2.longitude, hue=df2.censustractandblock)"
   ]
  },
  {
   "cell_type": "code",
   "execution_count": null,
   "metadata": {},
   "outputs": [],
   "source": [
    "# Distribution of Assessed Values\n",
    "X.landtaxvaluedollarcnt.describe()"
   ]
  },
  {
   "cell_type": "code",
   "execution_count": null,
   "metadata": {},
   "outputs": [],
   "source": [
    "plt.figure(figsize=(16, 15))\n",
    "sns.scatterplot(data=X, x=X.latitude, y=X.longitude, hue=X.logerror)"
   ]
  },
  {
   "cell_type": "code",
   "execution_count": null,
   "metadata": {},
   "outputs": [],
   "source": [
    "X.logerror.describe()"
   ]
  },
  {
   "cell_type": "code",
   "execution_count": null,
   "metadata": {},
   "outputs": [],
   "source": [
    "X.info()"
   ]
  },
  {
   "cell_type": "code",
   "execution_count": null,
   "metadata": {},
   "outputs": [],
   "source": []
  },
  {
   "cell_type": "code",
   "execution_count": null,
   "metadata": {},
   "outputs": [],
   "source": []
  },
  {
   "cell_type": "code",
   "execution_count": null,
   "metadata": {},
   "outputs": [],
   "source": []
  }
 ],
 "metadata": {
  "kernelspec": {
   "display_name": "Python 3",
   "language": "python",
   "name": "python3"
  },
  "language_info": {
   "codemirror_mode": {
    "name": "ipython",
    "version": 3
   },
   "file_extension": ".py",
   "mimetype": "text/x-python",
   "name": "python",
   "nbconvert_exporter": "python",
   "pygments_lexer": "ipython3",
   "version": "3.8.5"
  }
 },
 "nbformat": 4,
 "nbformat_minor": 4
}
